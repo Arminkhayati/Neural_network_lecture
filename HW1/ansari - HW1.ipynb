{
 "cells": [
  {
   "cell_type": "code",
   "execution_count": 3,
   "metadata": {},
   "outputs": [],
   "source": [
    "#%matplotlib qt\n",
    "import copy \n",
    "import numpy as np\n",
    "import glob\n",
    "import os\n",
    "import matplotlib.pyplot as plt\n",
    "import scipy.spatial\n",
    "from PIL import Image\n",
    "from sklearn.model_selection import train_test_split \n",
    "from sklearn.metrics import accuracy_score"
   ]
  },
  {
   "cell_type": "code",
   "execution_count": 4,
   "metadata": {},
   "outputs": [],
   "source": [
    "def LoadData(dpath='English Alphabet', size=[64, 64]):\n",
    "    images = []\n",
    "    image_labels = []\n",
    "    \n",
    "    dirs = os.listdir(dpath)    \n",
    "    c = len(dirs)\n",
    "    \n",
    "    for _dir in dirs:\n",
    "        for file in glob.glob('English Alphabet\\\\' + _dir + '\\\\*.png'):\n",
    "            images.append(np.ravel(np.array(  Image.open(file).convert('L')  )).astype(int))\n",
    "            image_labels.append(int(_dir))\n",
    "            \n",
    "    images = np.array(images)\n",
    "    image_labels = np.array(image_labels)\n",
    "    \n",
    "    #print(images)    \n",
    "    #print(image_labels)\n",
    "    #print(c)\n",
    "    print(str(len(images)) + ' Images Loaded From ' + str(c) + ' Classes' )\n",
    "    return images, image_labels, c"
   ]
  },
  {
   "cell_type": "code",
   "execution_count": 5,
   "metadata": {},
   "outputs": [],
   "source": [
    "def to_bipolar(data):\n",
    "    x = copy.deepcopy(data)    \n",
    "    for i in range(0, x.shape[0]):\n",
    "        for j in range(0, x.shape[1]):\n",
    "            if x[i, j] == 255:\n",
    "                x[i, j] = +1\n",
    "            else:\n",
    "                x[i, j] = -1\n",
    "    \n",
    "    print(str(x.shape[0]) + ' Images Converted To Bipolar' )\n",
    "    return x"
   ]
  },
  {
   "cell_type": "code",
   "execution_count": 6,
   "metadata": {},
   "outputs": [],
   "source": [
    "def split(x, y, testsize):\n",
    "    \n",
    "    X_train, X_test, y_train, y_test = train_test_split(x, y, test_size=testsize, random_state=20)\n",
    "    \n",
    "    m = X_train.shape[0]\n",
    "    mtest = X_test.shape[0]\n",
    "    \n",
    "    print('Train & Test Data Splited With Rate : ' + str(int(testsize*100)) + ' %')\n",
    "    return X_train, y_train, m, X_test, y_test, mtest"
   ]
  },
  {
   "cell_type": "code",
   "execution_count": 7,
   "metadata": {},
   "outputs": [
    {
     "name": "stdout",
     "output_type": "stream",
     "text": [
      "520 Images Loaded From 26 Classes\n",
      "520 Images Converted To Bipolar\n"
     ]
    }
   ],
   "source": [
    "images_gray, image_labels, class_count = LoadData(dpath='English Alphabet', size=[64, 64])\n",
    "images_bipolar = to_bipolar(images_gray)\n",
    "\n",
    "# x_train, y_train, m_train, x_test, y_test, m_test = split(images_bipolar, image_labels, testsize=0.20)"
   ]
  },
  {
   "cell_type": "code",
   "execution_count": 14,
   "metadata": {},
   "outputs": [
    {
     "name": "stdout",
     "output_type": "stream",
     "text": [
      "Train & Test Data Splited With Rate : 20 %\n",
      "Train mse : 3.6859175711612124e-09\n",
      "Train acc : 1.0\n",
      "Test  acc : 0.9326923076923077\n"
     ]
    },
    {
     "data": {
      "image/png": "[encoded data removed]",
      "text/plain": [
       "<Figure size 432x288 with 1 Axes>"
      ]
     },
     "metadata": {
      "needs_background": "light"
     },
     "output_type": "display_data"
    },
    {
     "data": {
      "image/png": "[encoded data removed]",
      "text/plain": [
       "<Figure size 432x288 with 1 Axes>"
      ]
     },
     "metadata": {
      "needs_background": "light"
     },
     "output_type": "display_data"
    }
   ],
   "source": [
    "# Part B\n",
    "\n",
    "from sklearn.datasets import make_regression\n",
    "from sklearn.preprocessing import StandardScaler\n",
    "from keras.models import Sequential\n",
    "from keras.layers import Dense\n",
    "from keras.optimizers import SGD\n",
    "from tensorflow.keras.wrappers.scikit_learn import KerasRegressor\n",
    "from matplotlib import pyplot\n",
    "from sklearn.preprocessing import OneHotEncoder\n",
    "from sklearn.metrics import accuracy_score\n",
    "from sklearn.model_selection import LeaveOneOut\n",
    "from sklearn.model_selection import cross_val_score\n",
    "\n",
    "# Split Data\n",
    "x_train, y_train, m_train, x_test, y_test, m_test = split(images_gray, image_labels, testsize=0.20)\n",
    "\n",
    "# OneHot Encoding\n",
    "ohe = OneHotEncoder()\n",
    "y_train_onehot = ohe.fit_transform(np.asmatrix(y_train).T).toarray()\n",
    "y_test_onehot = ohe.fit_transform(np.asmatrix(y_test).T).toarray()\n",
    "\n",
    "#################################################################  \n",
    "# # define model\n",
    "# model = Sequential()\n",
    "# model.add(Dense(26, input_dim=3600, activation='softmax', kernel_initializer='zeros'))\n",
    "# model.compile(loss='binary_crossentropy', optimizer=SGD(lr=0.5), metrics=['accuracy'])\n",
    "# # fit model\n",
    "# history = model.fit(x_train, y_train_onehot, epochs=100, verbose=0)\n",
    "################################\n",
    "# define model\n",
    "model = Sequential()\n",
    "model.add(Dense(26, input_dim=3600, activation='sigmoid', kernel_initializer='zeros'))\n",
    "model.compile(loss='binary_crossentropy', optimizer='adam', metrics=['accuracy'])\n",
    "# fit model\n",
    "history = model.fit(x_train, y_train_onehot, epochs=100, verbose=0)\n",
    "#################################################################\n",
    "\n",
    "# Prediction\n",
    "y_pred_onehot = model.predict(x_test)\n",
    "\n",
    "# evaluate the model\n",
    "train_mse, train_acc = model.evaluate(x_train, y_train_onehot, verbose=0)\n",
    "\n",
    "test_acc = accuracy_score(np.argmax(y_pred_onehot, axis=1), np.argmax(y_test_onehot, axis=1))\n",
    "\n",
    "# Report Results\n",
    "print('Train mse :', train_mse)\n",
    "print('Train acc :', train_acc)\n",
    "print('Test  acc :', test_acc)\n",
    "# print('y_pred:', np.argmax(y_test_onehot, axis=1))\n",
    "# print('y_pred:', np.argmax(y_pred_onehot, axis=1))\n",
    "\n",
    "# plot loss during training\n",
    "pyplot.title('Loss / Mean Squared Error')\n",
    "pyplot.plot(history.history['loss'], label='train')\n",
    "pyplot.legend()\n",
    "pyplot.show()\n",
    "# plot accuracy during training\n",
    "pyplot.subplot(212)\n",
    "pyplot.title('Accuracy')\n",
    "pyplot.plot(history.history['accuracy'], label='train')\n",
    "pyplot.legend()\n",
    "pyplot.show()"
   ]
  },
  {
   "cell_type": "code",
   "execution_count": null,
   "metadata": {},
   "outputs": [],
   "source": [
    "# Part A\n",
    "\n",
    "from sklearn.datasets import make_regression\n",
    "from sklearn.preprocessing import StandardScaler\n",
    "from keras.models import Sequential\n",
    "from keras.layers import Dense\n",
    "from keras.optimizers import SGD\n",
    "from tensorflow.keras import activations\n",
    "from tensorflow.keras.wrappers.scikit_learn import KerasRegressor\n",
    "import tensorflow as tf\n",
    "from matplotlib import pyplot\n",
    "from sklearn.preprocessing import OneHotEncoder\n",
    "from sklearn.metrics import accuracy_score\n",
    "from sklearn.model_selection import LeaveOneOut\n",
    "from sklearn.model_selection import cross_val_score\n",
    "\n",
    "# Split Data\n",
    "x_train, y_train, m_train, x_test, y_test, m_test = split(images_bipolar, image_labels, testsize=0.20)\n",
    "\n",
    "# OneHot Encoding\n",
    "ohe = OneHotEncoder()\n",
    "y_train_onehot = ohe.fit_transform(np.asmatrix(y_train).T).toarray()\n",
    "y_train_onehot = np.where(y_train_onehot > 0, 1, -1)\n",
    "y_test_onehot = ohe.fit_transform(np.asmatrix(y_test).T).toarray()\n",
    "y_test_onehot = np.where(y_test_onehot > 0, 1, -1)\n",
    "\n",
    "from keras import backend as k\n",
    "def sign_active_function(x):\n",
    "    return k.sign(x)\n",
    "\n",
    "\n",
    "#################################################################  \n",
    "# define model\n",
    "model = Sequential()\n",
    "model.add(Dense(26, input_dim=3600, activation='tanh', kernel_initializer='zeros'))\n",
    "model.compile(loss='mean_squared_error', optimizer=SGD(lr=0.01), metrics=['accuracy'])\n",
    "# fit model\n",
    "history = model.fit(x_train, y_train_onehot, epochs=100, verbose=0)\n",
    "################################\n",
    "# # define model\n",
    "# model = Sequential()\n",
    "# model.add(Dense(26, input_dim=3600, activation='softmax', kernel_initializer='zeros'))\n",
    "# model.compile(loss='mean_squared_error', optimizer=SGD(lr=0.5), metrics=['accuracy'])\n",
    "# # fit model\n",
    "# history = model.fit(x_train, y_train_onehot, epochs=100, verbose=0)\n",
    "#################################################################\n",
    "\n",
    "# Prediction\n",
    "y_pred_onehot = model.predict(x_test)\n",
    "\n",
    "print(y_test_onehot[0])\n",
    "print(y_pred_onehot[0])\n",
    "print(np.argmax(y_test_onehot[0]))\n",
    "print(np.argmax(y_pred_onehot[0]))\n",
    "\n",
    "# evaluate the model\n",
    "train_mse, train_acc = model.evaluate(x_train, y_train_onehot, verbose=0)\n",
    "\n",
    "test_acc = accuracy_score(np.argmax(y_pred_onehot, axis=1), np.argmax(y_test_onehot, axis=1))\n",
    "\n",
    "# Report Results\n",
    "print('Train mse :', train_mse)\n",
    "print('Train acc :', train_acc)\n",
    "print('Test  acc :', test_acc)\n",
    "# print('y_pred:', np.argmax(y_test_onehot, axis=1))\n",
    "# print('y_pred:', np.argmax(y_pred_onehot, axis=1))\n",
    "\n",
    "# plot loss during training\n",
    "pyplot.title('Loss / Mean Squared Error')\n",
    "pyplot.plot(history.history['loss'], label='train')\n",
    "pyplot.legend()\n",
    "pyplot.show()\n",
    "# plot accuracy during training\n",
    "pyplot.subplot(212)\n",
    "pyplot.title('Accuracy')\n",
    "pyplot.plot(history.history['accuracy'], label='train')\n",
    "pyplot.legend()\n",
    "pyplot.show()"
   ]
  }
 ],
 "metadata": {
  "kernelspec": {
   "display_name": "Python 3",
   "language": "python",
   "name": "python3"
  },
  "language_info": {
   "codemirror_mode": {
    "name": "ipython",
    "version": 3
   },
   "file_extension": ".py",
   "mimetype": "text/x-python",
   "name": "python",
   "nbconvert_exporter": "python",
   "pygments_lexer": "ipython3",
   "version": "3.8.5"
  }
 },
 "nbformat": 4,
 "nbformat_minor": 4
}
