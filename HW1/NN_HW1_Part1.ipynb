{
  "nbformat": 4,
  "nbformat_minor": 0,
  "metadata": {
    "colab": {
      "name": "NN-HW1-Part1.ipynb",
      "provenance": [],
      "collapsed_sections": []
    },
    "kernelspec": {
      "name": "python3",
      "display_name": "Python 3"
    },
    "language_info": {
      "name": "python"
    }
  },
  "cells": [
    {
      "cell_type": "code",
      "metadata": {
        "id": "RO6cp_Fp8CbF"
      },
      "source": [
        "!unzip ea\n"
      ],
      "execution_count": null,
      "outputs": []
    },
    {
      "cell_type": "code",
      "metadata": {
        "id": "Lbn9aX7S70PM"
      },
      "source": [
        "import pandas as pd\n",
        "import numpy as np\n",
        "from os import walk\n",
        "from os.path import join\n",
        "import cv2\n",
        "import random\n",
        "\n",
        "class DataReader:\n",
        "\n",
        "  def __init__(self, path):\n",
        "    self.path = path\n",
        "  \n",
        "  def preprocess(self, img):\n",
        "    img[img<255] = -1\n",
        "    img[img==255] = +1\n",
        "    return img\n",
        "  \n",
        "  def get_files_path(self):\n",
        "    files = {}\n",
        "    for i, w in enumerate(walk(self.path)):\n",
        "      if i == 0:\n",
        "        continue\n",
        "      dirpath, dirnames, filenames = w\n",
        "      files[i] = []\n",
        "      for f in filenames:\n",
        "        files[i].append(join(dirpath, f))\n",
        "    return files\n",
        "\n",
        "\n",
        "  def read_normal(self):\n",
        "    files = self.get_files_path()\n",
        "    data = pd.DataFrame({'img': [], 'label': []})\n",
        "    i = 0\n",
        "    for k in files.keys():\n",
        "      for path in files[k]:\n",
        "        img = cv2.imread(path,cv2.IMREAD_GRAYSCALE)\n",
        "        img = img.astype('float32')\n",
        "        img = self.preprocess(img)\n",
        "        img = np.array(img) \n",
        "        row = pd.DataFrame({'img': [np.ndarray.flatten(img)], 'label': [int(k)-1]})\n",
        "        data = pd.concat([data,row], ignore_index = True)\n",
        "    data['label'] = pd.to_numeric(data['label'], downcast='integer')\n",
        "    data['id'] = data.index\n",
        "    return data\n",
        "\n"
      ],
      "execution_count": 4,
      "outputs": []
    },
    {
      "cell_type": "code",
      "metadata": {
        "id": "Bv2jZUVu8X27"
      },
      "source": [
        "from math import floor\n",
        "from copy import deepcopy\n",
        "class Perceptron:\n",
        "\n",
        "  def __init__(self, input_size=3600, lr=0.01 ):\n",
        "    self.size = input_size\n",
        "    self.w = np.zeros(3600)\n",
        "    self.b = 1\n",
        "    self.lr = lr\n",
        "  \n",
        "  def update(self, x, y_hat, t):\n",
        "    if y_hat != t:\n",
        "      self.w = self.w + (self.lr * t * x)\n",
        "      self.b = self.b + (self.lr * t)\n",
        "\n",
        "  def output(self, x):\n",
        "    y = np.dot(x, self.w.T)\n",
        "    y = y + self.b\n",
        "    return self.activation(y)\n",
        "    \n",
        "  def activation(self, y):\n",
        "    if y >= 0:\n",
        "      return 1\n",
        "    else:\n",
        "      return -1\n",
        "\n",
        "class Layer:\n",
        "  \n",
        "  def __init__(self, input_shape=(60,60), num_perceptrons=26):\n",
        "    self.num_perceptrons = num_perceptrons\n",
        "    self.perceptrons = [Perceptron() for i in range(self.num_perceptrons)]\n",
        "    self.input_shape = input_shape\n",
        "  \n",
        "  def train(self, X, Y, epochs=10):\n",
        "    for _ in range(epochs):\n",
        "      for x,y in zip(X,Y):\n",
        "        for i, p in enumerate(self.perceptrons):\n",
        "          y_hat = p.output(x)\n",
        "          p.update(x, y_hat, y[i])\n",
        "\n",
        "  def predict(self, X):\n",
        "    preds = np.zeros(X.shape[0])\n",
        "    for i, x in enumerate(X):\n",
        "      pp = np.zeros(self.num_perceptrons)\n",
        "      for j, p in enumerate(self.perceptrons):\n",
        "        pp[j] = p.output(x)\n",
        "      preds[i] = np.argmax(pp)\n",
        "    return preds\n",
        "\n",
        "  def predict_noisy(self, X, percent):\n",
        "    preds = np.zeros(X.shape[0])\n",
        "    for i, x1 in enumerate(X):\n",
        "      pp = np.zeros(self.num_perceptrons)\n",
        "      x = self.add_noise(deepcopy(x1), percent)\n",
        "      for j, p in enumerate(self.perceptrons):\n",
        "        pp[j] = p.output(x)\n",
        "      preds[i] = np.argmax(pp)\n",
        "    return preds\n",
        "\n",
        "  def add_noise(self, img, percent):\n",
        "    num_of_pixels = floor(percent * img[img==-1].size)\n",
        "    b = np.where(img == -1)[0]\n",
        "    indices = random.sample(range(0, b.size), num_of_pixels)\n",
        "    img[b[indices]] = 1\n",
        "    return img"
      ],
      "execution_count": 5,
      "outputs": []
    },
    {
      "cell_type": "code",
      "metadata": {
        "colab": {
          "base_uri": "https://localhost:8080/",
          "height": 158
        },
        "id": "XO8G-V8B78KG",
        "outputId": "2f9684ba-d76d-4dbd-8e38-5c3105d39f95"
      },
      "source": [
        "from keras.utils.np_utils import to_categorical\n",
        "from sklearn.model_selection import train_test_split\n",
        "\n",
        "reader = DataReader('/content/ea')\n",
        "data = reader.read_normal()\n",
        "data['label_hot'] = data['label'].map(lambda x: to_categorical(x, 1+data['label'].max()))\n",
        "data['label_hot'] = data['label_hot'].map(lambda x: list(map(lambda y: -1.0 if y == 0 else y, x)))\n",
        "train_ids, valid_ids = train_test_split(data['id'], test_size = 0.25, \n",
        "                                   random_state = 2020,\n",
        "                                   stratify = data['label'])\n",
        "train = data[data['id'].isin(train_ids)]\n",
        "train = train.sample(frac=1).reset_index(drop=True)\n",
        "valid = data[data['id'].isin(valid_ids)]\n",
        "print('train', train.shape[0], 'valid', valid.shape[0])\n",
        "x_train = train['img'].to_numpy()\n",
        "y_train = train['label_hot'].to_numpy()\n",
        "x_test = valid['img'].to_numpy()\n",
        "y_test = valid['label_hot'].to_numpy()\n",
        "\n",
        "data = data.sample(frac=1).reset_index(drop=True)\n",
        "data.sample(3)"
      ],
      "execution_count": 10,
      "outputs": [
        {
          "output_type": "stream",
          "text": [
            "train 390 valid 130\n"
          ],
          "name": "stdout"
        },
        {
          "output_type": "execute_result",
          "data": {
            "text/html": [
              "<div>\n",
              "<style scoped>\n",
              "    .dataframe tbody tr th:only-of-type {\n",
              "        vertical-align: middle;\n",
              "    }\n",
              "\n",
              "    .dataframe tbody tr th {\n",
              "        vertical-align: top;\n",
              "    }\n",
              "\n",
              "    .dataframe thead th {\n",
              "        text-align: right;\n",
              "    }\n",
              "</style>\n",
              "<table border=\"1\" class=\"dataframe\">\n",
              "  <thead>\n",
              "    <tr style=\"text-align: right;\">\n",
              "      <th></th>\n",
              "      <th>img</th>\n",
              "      <th>label</th>\n",
              "      <th>id</th>\n",
              "      <th>label_hot</th>\n",
              "    </tr>\n",
              "  </thead>\n",
              "  <tbody>\n",
              "    <tr>\n",
              "      <th>246</th>\n",
              "      <td>[1.0, 1.0, 1.0, 1.0, 1.0, 1.0, 1.0, 1.0, 1.0, ...</td>\n",
              "      <td>4</td>\n",
              "      <td>93</td>\n",
              "      <td>[-1.0, -1.0, -1.0, -1.0, 1.0, -1.0, -1.0, -1.0...</td>\n",
              "    </tr>\n",
              "    <tr>\n",
              "      <th>244</th>\n",
              "      <td>[1.0, 1.0, 1.0, 1.0, 1.0, 1.0, 1.0, 1.0, 1.0, ...</td>\n",
              "      <td>12</td>\n",
              "      <td>246</td>\n",
              "      <td>[-1.0, -1.0, -1.0, -1.0, -1.0, -1.0, -1.0, -1....</td>\n",
              "    </tr>\n",
              "    <tr>\n",
              "      <th>96</th>\n",
              "      <td>[1.0, 1.0, 1.0, 1.0, 1.0, 1.0, 1.0, 1.0, 1.0, ...</td>\n",
              "      <td>24</td>\n",
              "      <td>480</td>\n",
              "      <td>[-1.0, -1.0, -1.0, -1.0, -1.0, -1.0, -1.0, -1....</td>\n",
              "    </tr>\n",
              "  </tbody>\n",
              "</table>\n",
              "</div>"
            ],
            "text/plain": [
              "                                                   img  ...                                          label_hot\n",
              "246  [1.0, 1.0, 1.0, 1.0, 1.0, 1.0, 1.0, 1.0, 1.0, ...  ...  [-1.0, -1.0, -1.0, -1.0, 1.0, -1.0, -1.0, -1.0...\n",
              "244  [1.0, 1.0, 1.0, 1.0, 1.0, 1.0, 1.0, 1.0, 1.0, ...  ...  [-1.0, -1.0, -1.0, -1.0, -1.0, -1.0, -1.0, -1....\n",
              "96   [1.0, 1.0, 1.0, 1.0, 1.0, 1.0, 1.0, 1.0, 1.0, ...  ...  [-1.0, -1.0, -1.0, -1.0, -1.0, -1.0, -1.0, -1....\n",
              "\n",
              "[3 rows x 4 columns]"
            ]
          },
          "metadata": {
            "tags": []
          },
          "execution_count": 10
        }
      ]
    },
    {
      "cell_type": "code",
      "metadata": {
        "colab": {
          "base_uri": "https://localhost:8080/"
        },
        "id": "yTLHPgPiBOEL",
        "outputId": "25258738-6b91-4e73-c8d6-6c7e48fa1c34"
      },
      "source": [
        "from sklearn.metrics import accuracy_score, classification_report\n",
        "\n",
        "model = Layer()\n",
        "model.train(x_train, y_train, 10)\n",
        "preds = model.predict(x_train)\n",
        "print('Accuracy on Train Data: %2.2f%%' % (accuracy_score( train['label'].to_numpy(), preds)))\n",
        "preds = model.predict(x_test)\n",
        "print('Accuracy on Test Data: %2.2f%%' % (accuracy_score( valid['label'].to_numpy(), preds)))"
      ],
      "execution_count": 11,
      "outputs": [
        {
          "output_type": "stream",
          "text": [
            "Accuracy on Train Data: 1.00%\n",
            "Accuracy on Test Data: 0.95%\n"
          ],
          "name": "stdout"
        }
      ]
    },
    {
      "cell_type": "code",
      "metadata": {
        "id": "Nh8CM0DRG7nU",
        "colab": {
          "base_uri": "https://localhost:8080/"
        },
        "outputId": "20497f98-348b-4ceb-ef63-2a0366170f4a"
      },
      "source": [
        "from sklearn.model_selection import LeaveOneOut\n",
        "from tqdm import tqdm\n",
        "\n",
        "X = data['img'].to_numpy()\n",
        "y = data['label_hot'].to_numpy()\n",
        "loo = LeaveOneOut()\n",
        "pred_acc = np.zeros(X.shape[0])\n",
        "_pred = []\n",
        "for i, indices in tqdm(enumerate(loo.split(X))):\n",
        "  train_index, test_index = indices\n",
        "  X_train, X_test = X[train_index], X[test_index]\n",
        "  y_train, y_test = y[train_index], y[test_index]\n",
        "  model = Layer()\n",
        "  model.train(X_train, y_train, 10)\n",
        "  preds = model.predict(X_test)\n",
        "  _pred.append(preds)\n",
        "  acc = accuracy_score( data['label'].iloc[test_index] , preds)\n",
        "  pred_acc[i] = acc\n",
        "\n",
        "print(\"Mean Accuracy for LOOCV : \", sum(pred_acc)/X.shape[0])\n"
      ],
      "execution_count": 12,
      "outputs": [
        {
          "output_type": "stream",
          "text": [
            "520it [07:47,  1.11it/s]"
          ],
          "name": "stderr"
        },
        {
          "output_type": "stream",
          "text": [
            "Mean Accuracy for LOOCV :  0.9403846153846154\n"
          ],
          "name": "stdout"
        },
        {
          "output_type": "stream",
          "text": [
            "\n"
          ],
          "name": "stderr"
        }
      ]
    },
    {
      "cell_type": "code",
      "metadata": {
        "colab": {
          "base_uri": "https://localhost:8080/"
        },
        "id": "5dIUvMqobI5-",
        "outputId": "375cbef7-f766-4ed6-9b5b-40814d3a971e"
      },
      "source": [
        "X = data['img'].to_numpy()\n",
        "y = data['label_hot'].to_numpy()\n",
        "model = Layer()\n",
        "model.train(X, y, 10)\n",
        "preds = model.predict_noisy(X, 0.15)\n",
        "print('Accuracy on 15%% Noisy Data: %2.2f%%' % (accuracy_score(data['label'].to_numpy(), preds)))\n",
        "\n",
        "preds = model.predict_noisy(X, 0.25)\n",
        "print('Accuracy on 25%% Noisy Data: %2.2f%%' % (accuracy_score(data['label'].to_numpy(), preds)))"
      ],
      "execution_count": 14,
      "outputs": [
        {
          "output_type": "stream",
          "text": [
            "Accuracy on 15% Noisy Data: 0.93%\n",
            "Accuracy on 25% Noisy Data: 0.84%\n"
          ],
          "name": "stdout"
        }
      ]
    },
    {
      "cell_type": "code",
      "metadata": {
        "id": "56yz3tT-427S"
      },
      "source": [
        ""
      ],
      "execution_count": null,
      "outputs": []
    }
  ]
}