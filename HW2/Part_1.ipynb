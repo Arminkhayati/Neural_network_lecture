{
 "cells": [
  {
   "cell_type": "code",
   "execution_count": 144,
   "id": "demanding-butler",
   "metadata": {},
   "outputs": [
    {
     "name": "stdout",
     "output_type": "stream",
     "text": [
      "Preprocessing Starts at  2021-05-09 22:40:46.141144\n",
      "Count All Words in All Docs is done\n",
      "Cound Words in each Docs Seperately is done\n",
      "Count how many docs contain a word -- df_j is done\n",
      "Create term frequency matrix - frequency of word (j - column) in document (i - row) -- df_j ,  is done\n",
      "Create V Matrix is done\n",
      "Total run time =  3.7743458666666667  Minutes\n"
     ]
    }
   ],
   "source": [
    "import pandas as pd\n",
    "import numpy as np\n",
    "import re\n",
    "import string\n",
    "import collections\n",
    "import datetime \n",
    "\n",
    "data = pd.read_csv('bbc-text.csv')\n",
    "stopwords = pd.read_csv('stopwords.txt', sep=\" \", header=0).columns.values\n",
    "\n",
    "\n",
    "def preprocess(line):\n",
    "    line = line.lower()\n",
    "    res = clean_punc_and_num(line)\n",
    "    res = remove_words_less_than_2(res)\n",
    "    res = remove_stopwords(res)\n",
    "    return res\n",
    "\n",
    "def clean_punc_and_num(line): \n",
    "    regex = re.compile('[^ a-zA-Z]')\n",
    "    cleaned = regex.sub('', line)\n",
    "    return  cleaned\n",
    "\n",
    "def remove_words_less_than_2(line):\n",
    "    regex = re.compile(r'\\b\\w{1,2}\\b')\n",
    "    cleaned = regex.sub('', line)\n",
    "    return  cleaned\n",
    "\n",
    "def remove_stopwords(line):\n",
    "    words = line.split()\n",
    "    return [w for w in words if w not in stopwords]\n",
    "# set(regex.sub('', data.iloc[0,1]).split())\n",
    "# set(clean_punc_and_num(data.iloc[0,1]).split())\n",
    "# def preprocess(line):\n",
    "# remove_words_less_than_2(clean_punc_and_num(data.iloc[1,1]))\n",
    "d1 = datetime.datetime.now()\n",
    "print('Preprocessing Starts at ', d1)\n",
    "data['text'] = data['text'].map(lambda t : np.array(preprocess(t)))\n",
    "\n",
    "# Count All Words in All Docs\n",
    "word_counts = collections.Counter(np.concatenate(data.text))\n",
    "print('Count All Words in All Docs is done')\n",
    "\n",
    "# Cound Words in each Docs Seperately\n",
    "count_term_in_docs = data.text.map(lambda t : collections.Counter(t))\n",
    "print('Cound Words in each Docs Seperately is done')\n",
    "\n",
    "# Count how many docs contain a word -- df_j\n",
    "num_doc_have_term = pd.DataFrame(np.array([[0]] * len(word_counts.keys())).T, columns=list(word_counts.keys()))\n",
    "def count(l):\n",
    "    num_doc_have_term[l] += 1\n",
    "data['text'].map(lambda l : count(l))\n",
    "print('Count how many docs contain a word -- df_j is done')\n",
    "\n",
    "# Initial V Matrix\n",
    "v_matrix = np.zeros((data.shape[0], num_doc_have_term.shape[1]))\n",
    "\n",
    "# Create term frequency matrix - frequency of word (j - column) in document (i - row) -- TF_ij\n",
    "freq_term_in_doc = pd.DataFrame(v_matrix, columns=list(word_counts.keys()))    \n",
    "for i in range(freq_term_in_doc.shape[0]):\n",
    "    freq_term_in_doc.iloc[i][list(count_term_in_docs[i].keys())] = list(count_term_in_docs[i].values())    \n",
    "print('Create term frequency matrix - frequency of word (j - column) in document (i - row) -- df_j ,  is done')\n",
    "    \n",
    "# Create V Matrix\n",
    "\n",
    "N = data.shape[0] + 1\n",
    "second_term = np.log(N / num_doc_have_term.values[0]) + 1\n",
    "for i in range(v_matrix.shape[0]):\n",
    "#     first_term =  np.log(1 + freq_term_in_doc.iloc[i])\n",
    "    first_term =  freq_term_in_doc.iloc[i]\n",
    "    v_matrix[i] = first_term * second_term\n",
    "\n",
    "print('Create V Matrix is done')\n",
    "\n",
    "d2 = datetime.datetime.now()\n",
    "print('Total run time = ', (d2-d1).total_seconds() / 60, ' Minutes')\n"
   ]
  },
  {
   "cell_type": "code",
   "execution_count": 203,
   "id": "manual-carnival",
   "metadata": {},
   "outputs": [],
   "source": [
    "# np.savetxt(\"v_matrix.csv\", v_matrix, delimiter=\",\")\n",
    "# v_matrix = np.genfromtxt('v_matrix.csv', delimiter=',')"
   ]
  },
  {
   "cell_type": "code",
   "execution_count": 202,
   "id": "needed-gross",
   "metadata": {},
   "outputs": [],
   "source": [
    "from tqdm.notebook import trange\n",
    "\n",
    "\n",
    "def euclidean_distance(x,weights):\n",
    "#     return np.array(list(map(np.linalg.norm, x - weights)))\n",
    "    return x@weights.T\n",
    "\n",
    "def index_of_minimum_distance(distances):\n",
    "#     return np.argmin(distances)\n",
    "    return np.argmax(distances)\n",
    "\n",
    "def update_weights(lr, x, weights, w_index):\n",
    "    delta_w = x - weights[w_index]\n",
    "    weights[w_index] = weights[w_index] + lr * delta_w\n",
    "    return weights\n",
    "\n",
    "def one_step(X, weights, lr):\n",
    "    for x in X:\n",
    "        distances = euclidean_distance(x,weights)\n",
    "#         print(distances)\n",
    "        w_index = index_of_minimum_distance(distances)\n",
    "#         print(w_index)\n",
    "        weights = update_weights(lr, x, weights, w_index)\n",
    "    return weights\n",
    "\n",
    "def train(X, lr, epochs, num_of_labels):\n",
    "    np.random.seed(1)\n",
    "    weights = np.random.rand(num_of_labels, X.shape[1])\n",
    "    for _ in trange(epochs):\n",
    "        weights = one_step(X, weights, lr)\n",
    "#         lr = 0.9 * lr\n",
    "    return weights"
   ]
  },
  {
   "cell_type": "code",
   "execution_count": 239,
   "id": "relevant-beaver",
   "metadata": {},
   "outputs": [
    {
     "data": {
      "application/vnd.jupyter.widget-view+json": {
       "model_id": "1f8323e5fbfe4f6bbb55b35a390ff975",
       "version_major": 2,
       "version_minor": 0
      },
      "text/plain": [
       "  0%|          | 0/1000 [00:00<?, ?it/s]"
      ]
     },
     "metadata": {},
     "output_type": "display_data"
    }
   ],
   "source": [
    "labels = data.category.unique()\n",
    "num_of_labels = data.category.unique().size\n",
    "weights = train(v_matrix, 0.1, 1000, num_of_labels)"
   ]
  },
  {
   "cell_type": "code",
   "execution_count": 263,
   "id": "offshore-mercury",
   "metadata": {},
   "outputs": [],
   "source": [
    "\n",
    "def cluster(X, weights):\n",
    "    results = {0:[], 1:[], 2:[], 3:[], 4:[]}\n",
    "    for i, x in enumerate(X):\n",
    "        distances = euclidean_distance(x,weights)\n",
    "        w_index = index_of_minimum_distance(distances)\n",
    "        results[w_index].append(i)\n",
    "    return results\n",
    "\n",
    "results = cluster(v_matrix, weights)\n",
    "y_pred = np.zeros(data.shape[0])\n",
    "for label, indices in results.items():\n",
    "    y_pred[indices] = label"
   ]
  },
  {
   "cell_type": "code",
   "execution_count": 264,
   "id": "african-fitness",
   "metadata": {},
   "outputs": [
    {
     "data": {
      "text/plain": [
       "<BarContainer object of 5 artists>"
      ]
     },
     "execution_count": 264,
     "metadata": {},
     "output_type": "execute_result"
    },
    {
     "data": {
      "image/png": "[encoded data removed]",
      "text/plain": [
       "<Figure size 1080x360 with 2 Axes>"
      ]
     },
     "metadata": {
      "needs_background": "light"
     },
     "output_type": "display_data"
    }
   ],
   "source": [
    "import matplotlib.pyplot as plt\n",
    "import numpy as np\n",
    "from matplotlib import colors\n",
    "from matplotlib.ticker import PercentFormatter\n",
    "\n",
    "\n",
    "fig, (ax1, ax2) = plt.subplots(1, 2,figsize=(15,5))\n",
    "fig.tight_layout()\n",
    "\n",
    "ax1.set_title('Real')\n",
    "ax1.bar(list(range(5)), list(data.category.value_counts()),\n",
    "        tick_label=['Label 1','Label 2','Label 3','Label 4','Label 5'],\n",
    "        )\n",
    "\n",
    "\n",
    "ax2.set_title('Predicted')\n",
    "ax2.bar(list(range(5)), list(map(len, results.values())),\n",
    "        tick_label=['Neuron 1','Neuron 2','Neuron 3','Neuron 4','Neuron 5'],\n",
    "        )\n"
   ]
  },
  {
   "cell_type": "code",
   "execution_count": 271,
   "id": "hollywood-benchmark",
   "metadata": {},
   "outputs": [
    {
     "data": {
      "text/plain": [
       "<AxesSubplot:>"
      ]
     },
     "execution_count": 271,
     "metadata": {},
     "output_type": "execute_result"
    },
    {
     "data": {
      "image/png": "[encoded data removed]",
      "text/plain": [
       "<Figure size 914.4x667.44 with 2 Axes>"
      ]
     },
     "metadata": {},
     "output_type": "display_data"
    }
   ],
   "source": [
    "import seaborn as sn\n",
    "from sklearn.metrics import confusion_matrix\n",
    "from matplotlib import rcParams\n",
    "# print(data.category[list(results.values())[0]].value_counts())\n",
    "# print(\"-----------------\")\n",
    "# print(data.category[list(results.values())[1]].value_counts())\n",
    "# print(\"-----------------\")\n",
    "# print(data.category[list(results.values())[2]].value_counts())\n",
    "# print(\"-----------------\")\n",
    "# print(data.category[list(results.values())[3]].value_counts())\n",
    "# print(\"-----------------\")\n",
    "# print(data.category[list(results.values())[4]].value_counts())\n",
    "\n",
    "# Sport -> 0, Tech -> 1, Politics -> 2, entertainment -> 3, business -> 4\n",
    "\n",
    "def map_labels(l):\n",
    "    if l == 'sport':\n",
    "        return 0\n",
    "    if l == 'tech':\n",
    "        return 1\n",
    "    if l == 'politics':\n",
    "        return 2\n",
    "    if l == 'entertainment':\n",
    "        return 3\n",
    "    if l == 'business':\n",
    "        return 4\n",
    "    \n",
    "y_true = data.category.map(lambda l: map_labels(l))\n",
    "sn.set(rc={'figure.figsize':(12.7,9.27)})\n",
    "cf_matrix = confusion_matrix(y_true, y_pred)\n",
    "sn.heatmap(cf_matrix, annot=True, fmt=\"d\")"
   ]
  },
  {
   "cell_type": "code",
   "execution_count": null,
   "id": "unavailable-customs",
   "metadata": {},
   "outputs": [],
   "source": []
  }
 ],
 "metadata": {
  "kernelspec": {
   "display_name": "Python 3",
   "language": "python",
   "name": "python3"
  },
  "language_info": {
   "codemirror_mode": {
    "name": "ipython",
    "version": 3
   },
   "file_extension": ".py",
   "mimetype": "text/x-python",
   "name": "python",
   "nbconvert_exporter": "python",
   "pygments_lexer": "ipython3",
   "version": "3.8.8"
  }
 },
 "nbformat": 4,
 "nbformat_minor": 5
}
