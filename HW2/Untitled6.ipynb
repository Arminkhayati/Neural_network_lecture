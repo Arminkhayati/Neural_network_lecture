{
 "cells": [
  {
   "cell_type": "code",
   "execution_count": 1,
   "metadata": {
    "colab": {
     "base_uri": "https://localhost:8080/"
    },
    "id": "OJPIiY0eiKQ-",
    "outputId": "cfcb480a-3e08-41a3-cf7e-6764646e3f95"
   },
   "outputs": [
    {
     "name": "stdout",
     "output_type": "stream",
     "text": [
      "Preprocessing Starts at  2021-05-10 19:26:27.708075\n",
      "Count All Words in All Docs is done\n",
      "Cound Words in each Docs Seperately is done\n",
      "Count how many docs contain a word -- df_j is done\n",
      "Create term frequency matrix - frequency of word (j - column) in document (i - row) -- df_j ,  is done\n",
      "Create V Matrix is done\n",
      "Total run time =  4.2728377  Minutes\n"
     ]
    }
   ],
   "source": [
    "import pandas as pd\n",
    "import numpy as np\n",
    "import re\n",
    "import string\n",
    "import collections\n",
    "import datetime \n",
    "\n",
    "data = pd.read_csv('/content/bbc-text.csv')\n",
    "stopwords = pd.read_csv('/content/stopwords.txt', sep=\" \", header=0).columns.values\n",
    "\n",
    "\n",
    "def preprocess(line):\n",
    "    line = line.lower()\n",
    "    res = clean_punc_and_num(line)\n",
    "    res = remove_words_less_than_2(res)\n",
    "    res = remove_stopwords(res)\n",
    "    return res\n",
    "\n",
    "def clean_punc_and_num(line): \n",
    "    regex = re.compile('[^ a-zA-Z]')\n",
    "    cleaned = regex.sub('', line)\n",
    "    return  cleaned\n",
    "\n",
    "def remove_words_less_than_2(line):\n",
    "    regex = re.compile(r'\\b\\w{1,2}\\b')\n",
    "    cleaned = regex.sub('', line)\n",
    "    return  cleaned\n",
    "\n",
    "def remove_stopwords(line):\n",
    "    words = line.split()\n",
    "    return [w for w in words if w not in stopwords]\n",
    "# set(regex.sub('', data.iloc[0,1]).split())\n",
    "# set(clean_punc_and_num(data.iloc[0,1]).split())\n",
    "# def preprocess(line):\n",
    "# remove_words_less_than_2(clean_punc_and_num(data.iloc[1,1]))\n",
    "d1 = datetime.datetime.now()\n",
    "print('Preprocessing Starts at ', d1)\n",
    "data['text'] = data['text'].map(lambda t : np.array(preprocess(t)))\n",
    "\n",
    "# Count All Words in All Docs\n",
    "word_counts = collections.Counter(np.concatenate(data.text))\n",
    "print('Count All Words in All Docs is done')\n",
    "\n",
    "# Cound Words in each Docs Seperately\n",
    "count_term_in_docs = data.text.map(lambda t : collections.Counter(t))\n",
    "print('Cound Words in each Docs Seperately is done')\n",
    "\n",
    "# Count how many docs contain a word -- df_j\n",
    "num_doc_have_term = pd.DataFrame(np.array([[0]] * len(word_counts.keys())).T, columns=list(word_counts.keys()))\n",
    "def count(l):\n",
    "    num_doc_have_term[l] += 1\n",
    "data['text'].map(lambda l : count(l))\n",
    "print('Count how many docs contain a word -- df_j is done')\n",
    "\n",
    "# Initial V Matrix\n",
    "v_matrix = np.zeros((data.shape[0], num_doc_have_term.shape[1]))\n",
    "\n",
    "# Create term frequency matrix - frequency of word (j - column) in document (i - row) -- TF_ij\n",
    "freq_term_in_doc = pd.DataFrame(v_matrix, columns=list(word_counts.keys()))    \n",
    "for i in range(freq_term_in_doc.shape[0]):\n",
    "    freq_term_in_doc.iloc[i][list(count_term_in_docs[i].keys())] = list(count_term_in_docs[i].values())    \n",
    "print('Create term frequency matrix - frequency of word (j - column) in document (i - row) -- df_j ,  is done')\n",
    "    \n",
    "# Create V Matrix\n",
    "\n",
    "N = data.shape[0] + 1\n",
    "second_term = np.log(N / num_doc_have_term.values[0]) + 1\n",
    "for i in range(v_matrix.shape[0]):\n",
    "#     first_term =  np.log(1 + freq_term_in_doc.iloc[i])\n",
    "    first_term =  freq_term_in_doc.iloc[i]\n",
    "    v_matrix[i] = first_term * second_term\n",
    "\n",
    "print('Create V Matrix is done')\n",
    "\n",
    "d2 = datetime.datetime.now()\n",
    "print('Total run time = ', (d2-d1).total_seconds() / 60, ' Minutes')\n"
   ]
  },
  {
   "cell_type": "code",
   "execution_count": 25,
   "metadata": {
    "colab": {
     "base_uri": "https://localhost:8080/",
     "height": 647,
     "referenced_widgets": [
      "d5c835d63b2e442986631055334adc1b",
      "d138946708154caf81375aae70a0a93e",
      "a1180b0ba31d4694a811449b96fb6432",
      "25deaff815a742a0844403a67d873bc5",
      "f8860843a9424fbabbccd2238c6c7f1b",
      "f35a605fb22f47bcbb5b97ea661998ab",
      "0e04c445c9c5410794038e6619f6de09",
      "958d974f58e44b4a91ca8f8094ac8855"
     ]
    },
    "id": "6nqDrnrVj6vm",
    "outputId": "eefcc987-87a8-4363-8923-d187b91bb116"
   },
   "outputs": [
    {
     "data": {
      "application/vnd.jupyter.widget-view+json": {
       "model_id": "d5c835d63b2e442986631055334adc1b",
       "version_major": 2,
       "version_minor": 0
      },
      "text/plain": [
       "HBox(children=(FloatProgress(value=0.0, max=32.0), HTML(value='')))"
      ]
     },
     "metadata": {
      "tags": []
     },
     "output_type": "display_data"
    },
    {
     "name": "stdout",
     "output_type": "stream",
     "text": [
      " Sum of distances = 988.27168\n",
      " Sum of distances = 973.39707\n",
      " Sum of distances = 962.06101\n",
      " Sum of distances = 945.31857\n",
      " Sum of distances = 938.42433\n",
      " Sum of distances = 929.61234\n",
      " Sum of distances = 916.89763\n",
      " Sum of distances = 910.59215\n",
      " Sum of distances = 902.63446\n",
      " Sum of distances = 889.91539\n",
      " Sum of distances = 880.03008\n",
      " Sum of distances = 884.01484\n",
      " Sum of distances = 878.27246\n",
      " Sum of distances = 870.80457\n",
      " Sum of distances = 865.42643\n",
      " Sum of distances = 863.97628\n",
      " Sum of distances = 863.26868\n",
      " Sum of distances = 859.24907\n",
      " Sum of distances = 861.02469\n",
      " Sum of distances = 859.18342\n",
      " Sum of distances = 855.69180\n",
      " Sum of distances = 857.49329\n",
      " Sum of distances = 855.98263\n",
      " Sum of distances = 851.72408\n",
      " Sum of distances = 854.94592\n",
      " Sum of distances = 855.59254\n",
      " Sum of distances = 851.03195\n",
      " Sum of distances = 852.80230\n",
      " Sum of distances = 854.63959\n",
      " Sum of distances = 850.85976\n",
      " Sum of distances = 849.27131\n",
      " Sum of distances = 850.36116\n",
      "\n",
      "Training done in 264.825394 seconds.\n"
     ]
    }
   ],
   "source": [
    "import numpy as np\n",
    "import matplotlib.pyplot as plt\n",
    "import matplotlib\n",
    "import random, time, sys, math\n",
    "from som import SOM, plot_data_on_map\n",
    "from mpl_toolkits.mplot3d import Axes3D\n",
    "\n",
    "som1 = SOM()\n",
    "som1.create(width=3, height=3, ch=v_matrix.shape[1])\n",
    "\n",
    "# Fit the map to the dataset using total 20 optimization rounds.\n",
    "som1.fit(v_matrix, random_sampling=0.5, n_iter=32, dist_method='cosine')\n"
   ]
  },
  {
   "cell_type": "code",
   "execution_count": 26,
   "metadata": {
    "colab": {
     "base_uri": "https://localhost:8080/",
     "height": 412
    },
    "id": "siNliAcp1Fza",
    "outputId": "07ab9d8d-541e-41b1-a6ae-ce95036e176a"
   },
   "outputs": [
    {
     "name": "stdout",
     "output_type": "stream",
     "text": [
      "Finding mathing nodes [=====================>] Done\n"
     ]
    },
    {
     "data": {
      "text/plain": [
       "<matplotlib.axes._subplots.AxesSubplot at 0x7ffb848ca590>"
      ]
     },
     "execution_count": 26,
     "metadata": {
      "tags": []
     },
     "output_type": "execute_result"
    },
    {
     "data": {
      "image/png": "[encoded data removed]",
      "text/plain": [
       "<Figure size 648x432 with 2 Axes>"
      ]
     },
     "metadata": {
      "tags": []
     },
     "output_type": "display_data"
    }
   ],
   "source": [
    "cm = np.zeros((3,3),dtype='int')\n",
    "pred = som1.find_maching_nodes(v_matrix)[0]\n",
    "for p in pred:\n",
    "  cm[p[0], p[1]] += 1\n",
    "\n",
    "f, ax = plt.subplots(figsize=(9, 6))\n",
    "sns.heatmap(cm, annot=True, fmt=\"d\", linewidths=.5, ax=ax)"
   ]
  },
  {
   "cell_type": "code",
   "execution_count": 27,
   "metadata": {
    "colab": {
     "base_uri": "https://localhost:8080/",
     "height": 964,
     "referenced_widgets": [
      "e4fc130137dc46f59be26d2a983fa623",
      "b718a9676a634397b3a664e762258159",
      "e16a9925d077408ea8f559e0f9d5aa53",
      "2df7edea0d8a4250b9295d48b0726c83",
      "c59ef4d79bbe435c9da62dfbca458a72",
      "8a7e55c5332c48f887c3acd0f2cf2b1a",
      "b368631bfae64b809709fc741214f791",
      "d66564850646467987880cd91371fac6"
     ]
    },
    "id": "heNth-9J1h__",
    "outputId": "ad32d89d-1228-48b4-886a-acde9020e6b6"
   },
   "outputs": [
    {
     "data": {
      "application/vnd.jupyter.widget-view+json": {
       "model_id": "e4fc130137dc46f59be26d2a983fa623",
       "version_major": 2,
       "version_minor": 0
      },
      "text/plain": [
       "HBox(children=(FloatProgress(value=0.0, max=50.0), HTML(value='')))"
      ]
     },
     "metadata": {
      "tags": []
     },
     "output_type": "display_data"
    },
    {
     "name": "stdout",
     "output_type": "stream",
     "text": [
      " Sum of distances = 984.32312\n",
      " Sum of distances = 969.19334\n",
      " Sum of distances = 953.39207\n",
      " Sum of distances = 935.56238\n",
      " Sum of distances = 921.76984\n",
      " Sum of distances = 906.78235\n",
      " Sum of distances = 893.65649\n",
      " Sum of distances = 882.35361\n",
      " Sum of distances = 875.22923\n",
      " Sum of distances = 864.52579\n",
      " Sum of distances = 850.65857\n",
      " Sum of distances = 846.47110\n",
      " Sum of distances = 837.51287\n",
      " Sum of distances = 841.22915\n",
      " Sum of distances = 832.35788\n",
      " Sum of distances = 831.97662\n",
      " Sum of distances = 831.98875\n",
      " Sum of distances = 823.96389\n",
      " Sum of distances = 820.70462\n",
      " Sum of distances = 824.33616\n",
      " Sum of distances = 821.66801\n",
      " Sum of distances = 823.98773\n",
      " Sum of distances = 819.93778\n",
      " Sum of distances = 818.72375\n",
      " Sum of distances = 816.41943\n",
      " Sum of distances = 816.88371\n",
      " Sum of distances = 819.02535\n",
      " Sum of distances = 815.78326\n",
      " Sum of distances = 822.22234\n",
      " Sum of distances = 815.90497\n",
      " Sum of distances = 816.84950\n",
      " Sum of distances = 817.87749\n",
      " Sum of distances = 816.08695\n",
      " Sum of distances = 819.49858\n",
      " Sum of distances = 817.56627\n",
      " Sum of distances = 816.76893\n",
      " Sum of distances = 817.55313\n",
      " Sum of distances = 816.64731\n",
      " Sum of distances = 816.36633\n",
      " Sum of distances = 818.35791\n",
      " Sum of distances = 821.43910\n",
      " Sum of distances = 816.08282\n",
      " Sum of distances = 816.43662\n",
      " Sum of distances = 817.37266\n",
      " Sum of distances = 817.93918\n",
      " Sum of distances = 811.19824\n",
      " Sum of distances = 816.78182\n",
      " Sum of distances = 819.35739\n",
      " Sum of distances = 819.37858\n",
      " Sum of distances = 815.39038\n",
      "\n",
      "Training done in 811.820702 seconds.\n"
     ]
    }
   ],
   "source": [
    "\n",
    "som2 = SOM()\n",
    "som2.create(width=4, height=4, ch=v_matrix.shape[1])\n",
    "\n",
    "# Fit the map to the dataset using total 20 optimization rounds.\n",
    "som2.fit(v_matrix, random_sampling=0.5, n_iter=50, dist_method='cosine')\n"
   ]
  },
  {
   "cell_type": "code",
   "execution_count": 29,
   "metadata": {
    "colab": {
     "base_uri": "https://localhost:8080/",
     "height": 413
    },
    "id": "AzMmvjpm1j36",
    "outputId": "f902d725-6fbd-4c5d-dd7b-3870b76c194c"
   },
   "outputs": [
    {
     "name": "stdout",
     "output_type": "stream",
     "text": [
      "Finding mathing nodes [=====================>] Done\n"
     ]
    },
    {
     "data": {
      "text/plain": [
       "<matplotlib.axes._subplots.AxesSubplot at 0x7ffb84c33950>"
      ]
     },
     "execution_count": 29,
     "metadata": {
      "tags": []
     },
     "output_type": "execute_result"
    },
    {
     "data": {
      "image/png": "[encoded data removed]",
      "text/plain": [
       "<Figure size 648x432 with 2 Axes>"
      ]
     },
     "metadata": {
      "tags": []
     },
     "output_type": "display_data"
    }
   ],
   "source": [
    "cm = np.zeros((4,4),dtype='int')\n",
    "pred = som2.find_maching_nodes(v_matrix)[0]\n",
    "for p in pred:\n",
    "  cm[p[0], p[1]] += 1\n",
    "\n",
    "f, ax = plt.subplots(figsize=(9, 6))\n",
    "sns.heatmap(cm, annot=True, fmt=\"d\", linewidths=.5, ax=ax)"
   ]
  },
  {
   "cell_type": "code",
   "execution_count": 30,
   "metadata": {
    "colab": {
     "base_uri": "https://localhost:8080/",
     "height": 964,
     "referenced_widgets": [
      "4d298cfff9794ebc8b1e8421fb412ab5",
      "11bcbb35b37448de96cce874df3e71ce",
      "ca605ee1344b4f58be4257b086d37a9a",
      "5c1bbf6e6d5e4bf0a25fc2e29280944c",
      "c2e20fe16f1244b68abfabb3ea4370b4",
      "25a29dd5d9384e5489585d22e78414d7",
      "069db80449944a6cb4123772375c76d4",
      "1aeb1d48c1f44a4fb851d426fc513fce"
     ]
    },
    "id": "MA403NbG2NNA",
    "outputId": "ed4378c9-5dd4-43d9-cbd6-545fb6c0a5c6"
   },
   "outputs": [
    {
     "data": {
      "application/vnd.jupyter.widget-view+json": {
       "model_id": "4d298cfff9794ebc8b1e8421fb412ab5",
       "version_major": 2,
       "version_minor": 0
      },
      "text/plain": [
       "HBox(children=(FloatProgress(value=0.0, max=50.0), HTML(value='')))"
      ]
     },
     "metadata": {
      "tags": []
     },
     "output_type": "display_data"
    },
    {
     "name": "stdout",
     "output_type": "stream",
     "text": [
      " Sum of distances = 967.99443\n",
      " Sum of distances = 947.29613\n",
      " Sum of distances = 934.39595\n",
      " Sum of distances = 917.91156\n",
      " Sum of distances = 901.88465\n",
      " Sum of distances = 878.02448\n",
      " Sum of distances = 869.22316\n",
      " Sum of distances = 861.00289\n",
      " Sum of distances = 844.92531\n",
      " Sum of distances = 831.93541\n",
      " Sum of distances = 823.53642\n",
      " Sum of distances = 822.50907\n",
      " Sum of distances = 809.70958\n",
      " Sum of distances = 802.44542\n",
      " Sum of distances = 805.33665\n",
      " Sum of distances = 796.53705\n",
      " Sum of distances = 794.73923\n",
      " Sum of distances = 788.46562\n",
      " Sum of distances = 790.28309\n",
      " Sum of distances = 795.21176\n",
      " Sum of distances = 789.27486\n",
      " Sum of distances = 785.83394\n",
      " Sum of distances = 791.93603\n",
      " Sum of distances = 790.68122\n",
      " Sum of distances = 791.44050\n",
      " Sum of distances = 787.93990\n",
      " Sum of distances = 784.37744\n",
      " Sum of distances = 792.85439\n",
      " Sum of distances = 785.17577\n",
      " Sum of distances = 783.43155\n",
      " Sum of distances = 786.82954\n",
      " Sum of distances = 788.22598\n",
      " Sum of distances = 785.23675\n",
      " Sum of distances = 787.33375\n",
      " Sum of distances = 786.38653\n",
      " Sum of distances = 785.24524\n",
      " Sum of distances = 789.84465\n",
      " Sum of distances = 785.93384\n",
      " Sum of distances = 781.33840\n",
      " Sum of distances = 786.87704\n",
      " Sum of distances = 788.09646\n",
      " Sum of distances = 786.16241\n",
      " Sum of distances = 785.20860\n",
      " Sum of distances = 789.36631\n",
      " Sum of distances = 786.97637\n",
      " Sum of distances = 787.45188\n",
      " Sum of distances = 787.03586\n",
      " Sum of distances = 781.60344\n",
      " Sum of distances = 779.04364\n",
      " Sum of distances = 786.71626\n",
      "\n",
      "Training done in 846.831407 seconds.\n"
     ]
    }
   ],
   "source": [
    "\n",
    "som3 = SOM()\n",
    "som3.create(width=5, height=5, ch=v_matrix.shape[1])\n",
    "\n",
    "# Fit the map to the dataset using total 20 optimization rounds.\n",
    "som3.fit(v_matrix, random_sampling=0.5, n_iter=50, dist_method='cosine')"
   ]
  },
  {
   "cell_type": "code",
   "execution_count": 31,
   "metadata": {
    "colab": {
     "base_uri": "https://localhost:8080/",
     "height": 412
    },
    "id": "iO_yF8R_2Nhy",
    "outputId": "31752f1c-211f-45dd-bbda-aa41f26686bf"
   },
   "outputs": [
    {
     "name": "stdout",
     "output_type": "stream",
     "text": [
      "Finding mathing nodes [=====================>] Done\n"
     ]
    },
    {
     "data": {
      "text/plain": [
       "<matplotlib.axes._subplots.AxesSubplot at 0x7ffb84e7d8d0>"
      ]
     },
     "execution_count": 31,
     "metadata": {
      "tags": []
     },
     "output_type": "execute_result"
    },
    {
     "data": {
      "image/png": "[encoded data removed]",
      "text/plain": [
       "<Figure size 648x432 with 2 Axes>"
      ]
     },
     "metadata": {
      "tags": []
     },
     "output_type": "display_data"
    }
   ],
   "source": [
    "cm = np.zeros((5,5),dtype='int')\n",
    "pred = som3.find_maching_nodes(v_matrix)[0]\n",
    "for p in pred:\n",
    "  cm[p[0], p[1]] += 1\n",
    "\n",
    "f, ax = plt.subplots(figsize=(9, 6))\n",
    "sns.heatmap(cm, annot=True, fmt=\"d\", linewidths=.5, ax=ax)"
   ]
  },
  {
   "cell_type": "code",
   "execution_count": null,
   "metadata": {
    "id": "vtvI6UWd2Xey"
   },
   "outputs": [],
   "source": []
  }
 ],
 "metadata": {
  "colab": {
   "name": "Untitled6.ipynb",
   "provenance": []
  },
  "kernelspec": {
   "display_name": "Python 3",
   "language": "python",
   "name": "python3"
  },
  "language_info": {
   "codemirror_mode": {
    "name": "ipython",
    "version": 3
   },
   "file_extension": ".py",
   "mimetype": "text/x-python",
   "name": "python",
   "nbconvert_exporter": "python",
   "pygments_lexer": "ipython3",
   "version": "3.8.8"
  },
  "widgets": {
   "application/vnd.jupyter.widget-state+json": {
    "069db80449944a6cb4123772375c76d4": {
     "model_module": "@jupyter-widgets/controls",
     "model_name": "DescriptionStyleModel",
     "state": {
      "_model_module": "@jupyter-widgets/controls",
      "_model_module_version": "1.5.0",
      "_model_name": "DescriptionStyleModel",
      "_view_count": null,
      "_view_module": "@jupyter-widgets/base",
      "_view_module_version": "1.2.0",
      "_view_name": "StyleView",
      "description_width": ""
     }
    },
    "0e04c445c9c5410794038e6619f6de09": {
     "model_module": "@jupyter-widgets/controls",
     "model_name": "DescriptionStyleModel",
     "state": {
      "_model_module": "@jupyter-widgets/controls",
      "_model_module_version": "1.5.0",
      "_model_name": "DescriptionStyleModel",
      "_view_count": null,
      "_view_module": "@jupyter-widgets/base",
      "_view_module_version": "1.2.0",
      "_view_name": "StyleView",
      "description_width": ""
     }
    },
    "11bcbb35b37448de96cce874df3e71ce": {
     "model_module": "@jupyter-widgets/base",
     "model_name": "LayoutModel",
     "state": {
      "_model_module": "@jupyter-widgets/base",
      "_model_module_version": "1.2.0",
      "_model_name": "LayoutModel",
      "_view_count": null,
      "_view_module": "@jupyter-widgets/base",
      "_view_module_version": "1.2.0",
      "_view_name": "LayoutView",
      "align_content": null,
      "align_items": null,
      "align_self": null,
      "border": null,
      "bottom": null,
      "display": null,
      "flex": null,
      "flex_flow": null,
      "grid_area": null,
      "grid_auto_columns": null,
      "grid_auto_flow": null,
      "grid_auto_rows": null,
      "grid_column": null,
      "grid_gap": null,
      "grid_row": null,
      "grid_template_areas": null,
      "grid_template_columns": null,
      "grid_template_rows": null,
      "height": null,
      "justify_content": null,
      "justify_items": null,
      "left": null,
      "margin": null,
      "max_height": null,
      "max_width": null,
      "min_height": null,
      "min_width": null,
      "object_fit": null,
      "object_position": null,
      "order": null,
      "overflow": null,
      "overflow_x": null,
      "overflow_y": null,
      "padding": null,
      "right": null,
      "top": null,
      "visibility": null,
      "width": null
     }
    },
    "1aeb1d48c1f44a4fb851d426fc513fce": {
     "model_module": "@jupyter-widgets/base",
     "model_name": "LayoutModel",
     "state": {
      "_model_module": "@jupyter-widgets/base",
      "_model_module_version": "1.2.0",
      "_model_name": "LayoutModel",
      "_view_count": null,
      "_view_module": "@jupyter-widgets/base",
      "_view_module_version": "1.2.0",
      "_view_name": "LayoutView",
      "align_content": null,
      "align_items": null,
      "align_self": null,
      "border": null,
      "bottom": null,
      "display": null,
      "flex": null,
      "flex_flow": null,
      "grid_area": null,
      "grid_auto_columns": null,
      "grid_auto_flow": null,
      "grid_auto_rows": null,
      "grid_column": null,
      "grid_gap": null,
      "grid_row": null,
      "grid_template_areas": null,
      "grid_template_columns": null,
      "grid_template_rows": null,
      "height": null,
      "justify_content": null,
      "justify_items": null,
      "left": null,
      "margin": null,
      "max_height": null,
      "max_width": null,
      "min_height": null,
      "min_width": null,
      "object_fit": null,
      "object_position": null,
      "order": null,
      "overflow": null,
      "overflow_x": null,
      "overflow_y": null,
      "padding": null,
      "right": null,
      "top": null,
      "visibility": null,
      "width": null
     }
    },
    "25a29dd5d9384e5489585d22e78414d7": {
     "model_module": "@jupyter-widgets/base",
     "model_name": "LayoutModel",
     "state": {
      "_model_module": "@jupyter-widgets/base",
      "_model_module_version": "1.2.0",
      "_model_name": "LayoutModel",
      "_view_count": null,
      "_view_module": "@jupyter-widgets/base",
      "_view_module_version": "1.2.0",
      "_view_name": "LayoutView",
      "align_content": null,
      "align_items": null,
      "align_self": null,
      "border": null,
      "bottom": null,
      "display": null,
      "flex": null,
      "flex_flow": null,
      "grid_area": null,
      "grid_auto_columns": null,
      "grid_auto_flow": null,
      "grid_auto_rows": null,
      "grid_column": null,
      "grid_gap": null,
      "grid_row": null,
      "grid_template_areas": null,
      "grid_template_columns": null,
      "grid_template_rows": null,
      "height": null,
      "justify_content": null,
      "justify_items": null,
      "left": null,
      "margin": null,
      "max_height": null,
      "max_width": null,
      "min_height": null,
      "min_width": null,
      "object_fit": null,
      "object_position": null,
      "order": null,
      "overflow": null,
      "overflow_x": null,
      "overflow_y": null,
      "padding": null,
      "right": null,
      "top": null,
      "visibility": null,
      "width": null
     }
    },
    "25deaff815a742a0844403a67d873bc5": {
     "model_module": "@jupyter-widgets/controls",
     "model_name": "HTMLModel",
     "state": {
      "_dom_classes": [],
      "_model_module": "@jupyter-widgets/controls",
      "_model_module_version": "1.5.0",
      "_model_name": "HTMLModel",
      "_view_count": null,
      "_view_module": "@jupyter-widgets/controls",
      "_view_module_version": "1.5.0",
      "_view_name": "HTMLView",
      "description": "",
      "description_tooltip": null,
      "layout": "IPY_MODEL_958d974f58e44b4a91ca8f8094ac8855",
      "placeholder": "​",
      "style": "IPY_MODEL_0e04c445c9c5410794038e6619f6de09",
      "value": " 32/32 [34:33&lt;00:00, 64.81s/it]"
     }
    },
    "2df7edea0d8a4250b9295d48b0726c83": {
     "model_module": "@jupyter-widgets/controls",
     "model_name": "HTMLModel",
     "state": {
      "_dom_classes": [],
      "_model_module": "@jupyter-widgets/controls",
      "_model_module_version": "1.5.0",
      "_model_name": "HTMLModel",
      "_view_count": null,
      "_view_module": "@jupyter-widgets/controls",
      "_view_module_version": "1.5.0",
      "_view_name": "HTMLView",
      "description": "",
      "description_tooltip": null,
      "layout": "IPY_MODEL_d66564850646467987880cd91371fac6",
      "placeholder": "​",
      "style": "IPY_MODEL_b368631bfae64b809709fc741214f791",
      "value": " 50/50 [13:51&lt;00:00, 16.62s/it]"
     }
    },
    "4d298cfff9794ebc8b1e8421fb412ab5": {
     "model_module": "@jupyter-widgets/controls",
     "model_name": "HBoxModel",
     "state": {
      "_dom_classes": [],
      "_model_module": "@jupyter-widgets/controls",
      "_model_module_version": "1.5.0",
      "_model_name": "HBoxModel",
      "_view_count": null,
      "_view_module": "@jupyter-widgets/controls",
      "_view_module_version": "1.5.0",
      "_view_name": "HBoxView",
      "box_style": "",
      "children": [
       "IPY_MODEL_ca605ee1344b4f58be4257b086d37a9a",
       "IPY_MODEL_5c1bbf6e6d5e4bf0a25fc2e29280944c"
      ],
      "layout": "IPY_MODEL_11bcbb35b37448de96cce874df3e71ce"
     }
    },
    "5c1bbf6e6d5e4bf0a25fc2e29280944c": {
     "model_module": "@jupyter-widgets/controls",
     "model_name": "HTMLModel",
     "state": {
      "_dom_classes": [],
      "_model_module": "@jupyter-widgets/controls",
      "_model_module_version": "1.5.0",
      "_model_name": "HTMLModel",
      "_view_count": null,
      "_view_module": "@jupyter-widgets/controls",
      "_view_module_version": "1.5.0",
      "_view_name": "HTMLView",
      "description": "",
      "description_tooltip": null,
      "layout": "IPY_MODEL_1aeb1d48c1f44a4fb851d426fc513fce",
      "placeholder": "​",
      "style": "IPY_MODEL_069db80449944a6cb4123772375c76d4",
      "value": " 50/50 [14:06&lt;00:00, 16.93s/it]"
     }
    },
    "8a7e55c5332c48f887c3acd0f2cf2b1a": {
     "model_module": "@jupyter-widgets/base",
     "model_name": "LayoutModel",
     "state": {
      "_model_module": "@jupyter-widgets/base",
      "_model_module_version": "1.2.0",
      "_model_name": "LayoutModel",
      "_view_count": null,
      "_view_module": "@jupyter-widgets/base",
      "_view_module_version": "1.2.0",
      "_view_name": "LayoutView",
      "align_content": null,
      "align_items": null,
      "align_self": null,
      "border": null,
      "bottom": null,
      "display": null,
      "flex": null,
      "flex_flow": null,
      "grid_area": null,
      "grid_auto_columns": null,
      "grid_auto_flow": null,
      "grid_auto_rows": null,
      "grid_column": null,
      "grid_gap": null,
      "grid_row": null,
      "grid_template_areas": null,
      "grid_template_columns": null,
      "grid_template_rows": null,
      "height": null,
      "justify_content": null,
      "justify_items": null,
      "left": null,
      "margin": null,
      "max_height": null,
      "max_width": null,
      "min_height": null,
      "min_width": null,
      "object_fit": null,
      "object_position": null,
      "order": null,
      "overflow": null,
      "overflow_x": null,
      "overflow_y": null,
      "padding": null,
      "right": null,
      "top": null,
      "visibility": null,
      "width": null
     }
    },
    "958d974f58e44b4a91ca8f8094ac8855": {
     "model_module": "@jupyter-widgets/base",
     "model_name": "LayoutModel",
     "state": {
      "_model_module": "@jupyter-widgets/base",
      "_model_module_version": "1.2.0",
      "_model_name": "LayoutModel",
      "_view_count": null,
      "_view_module": "@jupyter-widgets/base",
      "_view_module_version": "1.2.0",
      "_view_name": "LayoutView",
      "align_content": null,
      "align_items": null,
      "align_self": null,
      "border": null,
      "bottom": null,
      "display": null,
      "flex": null,
      "flex_flow": null,
      "grid_area": null,
      "grid_auto_columns": null,
      "grid_auto_flow": null,
      "grid_auto_rows": null,
      "grid_column": null,
      "grid_gap": null,
      "grid_row": null,
      "grid_template_areas": null,
      "grid_template_columns": null,
      "grid_template_rows": null,
      "height": null,
      "justify_content": null,
      "justify_items": null,
      "left": null,
      "margin": null,
      "max_height": null,
      "max_width": null,
      "min_height": null,
      "min_width": null,
      "object_fit": null,
      "object_position": null,
      "order": null,
      "overflow": null,
      "overflow_x": null,
      "overflow_y": null,
      "padding": null,
      "right": null,
      "top": null,
      "visibility": null,
      "width": null
     }
    },
    "a1180b0ba31d4694a811449b96fb6432": {
     "model_module": "@jupyter-widgets/controls",
     "model_name": "FloatProgressModel",
     "state": {
      "_dom_classes": [],
      "_model_module": "@jupyter-widgets/controls",
      "_model_module_version": "1.5.0",
      "_model_name": "FloatProgressModel",
      "_view_count": null,
      "_view_module": "@jupyter-widgets/controls",
      "_view_module_version": "1.5.0",
      "_view_name": "ProgressView",
      "bar_style": "success",
      "description": "100%",
      "description_tooltip": null,
      "layout": "IPY_MODEL_f35a605fb22f47bcbb5b97ea661998ab",
      "max": 32,
      "min": 0,
      "orientation": "horizontal",
      "style": "IPY_MODEL_f8860843a9424fbabbccd2238c6c7f1b",
      "value": 32
     }
    },
    "b368631bfae64b809709fc741214f791": {
     "model_module": "@jupyter-widgets/controls",
     "model_name": "DescriptionStyleModel",
     "state": {
      "_model_module": "@jupyter-widgets/controls",
      "_model_module_version": "1.5.0",
      "_model_name": "DescriptionStyleModel",
      "_view_count": null,
      "_view_module": "@jupyter-widgets/base",
      "_view_module_version": "1.2.0",
      "_view_name": "StyleView",
      "description_width": ""
     }
    },
    "b718a9676a634397b3a664e762258159": {
     "model_module": "@jupyter-widgets/base",
     "model_name": "LayoutModel",
     "state": {
      "_model_module": "@jupyter-widgets/base",
      "_model_module_version": "1.2.0",
      "_model_name": "LayoutModel",
      "_view_count": null,
      "_view_module": "@jupyter-widgets/base",
      "_view_module_version": "1.2.0",
      "_view_name": "LayoutView",
      "align_content": null,
      "align_items": null,
      "align_self": null,
      "border": null,
      "bottom": null,
      "display": null,
      "flex": null,
      "flex_flow": null,
      "grid_area": null,
      "grid_auto_columns": null,
      "grid_auto_flow": null,
      "grid_auto_rows": null,
      "grid_column": null,
      "grid_gap": null,
      "grid_row": null,
      "grid_template_areas": null,
      "grid_template_columns": null,
      "grid_template_rows": null,
      "height": null,
      "justify_content": null,
      "justify_items": null,
      "left": null,
      "margin": null,
      "max_height": null,
      "max_width": null,
      "min_height": null,
      "min_width": null,
      "object_fit": null,
      "object_position": null,
      "order": null,
      "overflow": null,
      "overflow_x": null,
      "overflow_y": null,
      "padding": null,
      "right": null,
      "top": null,
      "visibility": null,
      "width": null
     }
    },
    "c2e20fe16f1244b68abfabb3ea4370b4": {
     "model_module": "@jupyter-widgets/controls",
     "model_name": "ProgressStyleModel",
     "state": {
      "_model_module": "@jupyter-widgets/controls",
      "_model_module_version": "1.5.0",
      "_model_name": "ProgressStyleModel",
      "_view_count": null,
      "_view_module": "@jupyter-widgets/base",
      "_view_module_version": "1.2.0",
      "_view_name": "StyleView",
      "bar_color": null,
      "description_width": "initial"
     }
    },
    "c59ef4d79bbe435c9da62dfbca458a72": {
     "model_module": "@jupyter-widgets/controls",
     "model_name": "ProgressStyleModel",
     "state": {
      "_model_module": "@jupyter-widgets/controls",
      "_model_module_version": "1.5.0",
      "_model_name": "ProgressStyleModel",
      "_view_count": null,
      "_view_module": "@jupyter-widgets/base",
      "_view_module_version": "1.2.0",
      "_view_name": "StyleView",
      "bar_color": null,
      "description_width": "initial"
     }
    },
    "ca605ee1344b4f58be4257b086d37a9a": {
     "model_module": "@jupyter-widgets/controls",
     "model_name": "FloatProgressModel",
     "state": {
      "_dom_classes": [],
      "_model_module": "@jupyter-widgets/controls",
      "_model_module_version": "1.5.0",
      "_model_name": "FloatProgressModel",
      "_view_count": null,
      "_view_module": "@jupyter-widgets/controls",
      "_view_module_version": "1.5.0",
      "_view_name": "ProgressView",
      "bar_style": "success",
      "description": "100%",
      "description_tooltip": null,
      "layout": "IPY_MODEL_25a29dd5d9384e5489585d22e78414d7",
      "max": 50,
      "min": 0,
      "orientation": "horizontal",
      "style": "IPY_MODEL_c2e20fe16f1244b68abfabb3ea4370b4",
      "value": 50
     }
    },
    "d138946708154caf81375aae70a0a93e": {
     "model_module": "@jupyter-widgets/base",
     "model_name": "LayoutModel",
     "state": {
      "_model_module": "@jupyter-widgets/base",
      "_model_module_version": "1.2.0",
      "_model_name": "LayoutModel",
      "_view_count": null,
      "_view_module": "@jupyter-widgets/base",
      "_view_module_version": "1.2.0",
      "_view_name": "LayoutView",
      "align_content": null,
      "align_items": null,
      "align_self": null,
      "border": null,
      "bottom": null,
      "display": null,
      "flex": null,
      "flex_flow": null,
      "grid_area": null,
      "grid_auto_columns": null,
      "grid_auto_flow": null,
      "grid_auto_rows": null,
      "grid_column": null,
      "grid_gap": null,
      "grid_row": null,
      "grid_template_areas": null,
      "grid_template_columns": null,
      "grid_template_rows": null,
      "height": null,
      "justify_content": null,
      "justify_items": null,
      "left": null,
      "margin": null,
      "max_height": null,
      "max_width": null,
      "min_height": null,
      "min_width": null,
      "object_fit": null,
      "object_position": null,
      "order": null,
      "overflow": null,
      "overflow_x": null,
      "overflow_y": null,
      "padding": null,
      "right": null,
      "top": null,
      "visibility": null,
      "width": null
     }
    },
    "d5c835d63b2e442986631055334adc1b": {
     "model_module": "@jupyter-widgets/controls",
     "model_name": "HBoxModel",
     "state": {
      "_dom_classes": [],
      "_model_module": "@jupyter-widgets/controls",
      "_model_module_version": "1.5.0",
      "_model_name": "HBoxModel",
      "_view_count": null,
      "_view_module": "@jupyter-widgets/controls",
      "_view_module_version": "1.5.0",
      "_view_name": "HBoxView",
      "box_style": "",
      "children": [
       "IPY_MODEL_a1180b0ba31d4694a811449b96fb6432",
       "IPY_MODEL_25deaff815a742a0844403a67d873bc5"
      ],
      "layout": "IPY_MODEL_d138946708154caf81375aae70a0a93e"
     }
    },
    "d66564850646467987880cd91371fac6": {
     "model_module": "@jupyter-widgets/base",
     "model_name": "LayoutModel",
     "state": {
      "_model_module": "@jupyter-widgets/base",
      "_model_module_version": "1.2.0",
      "_model_name": "LayoutModel",
      "_view_count": null,
      "_view_module": "@jupyter-widgets/base",
      "_view_module_version": "1.2.0",
      "_view_name": "LayoutView",
      "align_content": null,
      "align_items": null,
      "align_self": null,
      "border": null,
      "bottom": null,
      "display": null,
      "flex": null,
      "flex_flow": null,
      "grid_area": null,
      "grid_auto_columns": null,
      "grid_auto_flow": null,
      "grid_auto_rows": null,
      "grid_column": null,
      "grid_gap": null,
      "grid_row": null,
      "grid_template_areas": null,
      "grid_template_columns": null,
      "grid_template_rows": null,
      "height": null,
      "justify_content": null,
      "justify_items": null,
      "left": null,
      "margin": null,
      "max_height": null,
      "max_width": null,
      "min_height": null,
      "min_width": null,
      "object_fit": null,
      "object_position": null,
      "order": null,
      "overflow": null,
      "overflow_x": null,
      "overflow_y": null,
      "padding": null,
      "right": null,
      "top": null,
      "visibility": null,
      "width": null
     }
    },
    "e16a9925d077408ea8f559e0f9d5aa53": {
     "model_module": "@jupyter-widgets/controls",
     "model_name": "FloatProgressModel",
     "state": {
      "_dom_classes": [],
      "_model_module": "@jupyter-widgets/controls",
      "_model_module_version": "1.5.0",
      "_model_name": "FloatProgressModel",
      "_view_count": null,
      "_view_module": "@jupyter-widgets/controls",
      "_view_module_version": "1.5.0",
      "_view_name": "ProgressView",
      "bar_style": "success",
      "description": "100%",
      "description_tooltip": null,
      "layout": "IPY_MODEL_8a7e55c5332c48f887c3acd0f2cf2b1a",
      "max": 50,
      "min": 0,
      "orientation": "horizontal",
      "style": "IPY_MODEL_c59ef4d79bbe435c9da62dfbca458a72",
      "value": 50
     }
    },
    "e4fc130137dc46f59be26d2a983fa623": {
     "model_module": "@jupyter-widgets/controls",
     "model_name": "HBoxModel",
     "state": {
      "_dom_classes": [],
      "_model_module": "@jupyter-widgets/controls",
      "_model_module_version": "1.5.0",
      "_model_name": "HBoxModel",
      "_view_count": null,
      "_view_module": "@jupyter-widgets/controls",
      "_view_module_version": "1.5.0",
      "_view_name": "HBoxView",
      "box_style": "",
      "children": [
       "IPY_MODEL_e16a9925d077408ea8f559e0f9d5aa53",
       "IPY_MODEL_2df7edea0d8a4250b9295d48b0726c83"
      ],
      "layout": "IPY_MODEL_b718a9676a634397b3a664e762258159"
     }
    },
    "f35a605fb22f47bcbb5b97ea661998ab": {
     "model_module": "@jupyter-widgets/base",
     "model_name": "LayoutModel",
     "state": {
      "_model_module": "@jupyter-widgets/base",
      "_model_module_version": "1.2.0",
      "_model_name": "LayoutModel",
      "_view_count": null,
      "_view_module": "@jupyter-widgets/base",
      "_view_module_version": "1.2.0",
      "_view_name": "LayoutView",
      "align_content": null,
      "align_items": null,
      "align_self": null,
      "border": null,
      "bottom": null,
      "display": null,
      "flex": null,
      "flex_flow": null,
      "grid_area": null,
      "grid_auto_columns": null,
      "grid_auto_flow": null,
      "grid_auto_rows": null,
      "grid_column": null,
      "grid_gap": null,
      "grid_row": null,
      "grid_template_areas": null,
      "grid_template_columns": null,
      "grid_template_rows": null,
      "height": null,
      "justify_content": null,
      "justify_items": null,
      "left": null,
      "margin": null,
      "max_height": null,
      "max_width": null,
      "min_height": null,
      "min_width": null,
      "object_fit": null,
      "object_position": null,
      "order": null,
      "overflow": null,
      "overflow_x": null,
      "overflow_y": null,
      "padding": null,
      "right": null,
      "top": null,
      "visibility": null,
      "width": null
     }
    },
    "f8860843a9424fbabbccd2238c6c7f1b": {
     "model_module": "@jupyter-widgets/controls",
     "model_name": "ProgressStyleModel",
     "state": {
      "_model_module": "@jupyter-widgets/controls",
      "_model_module_version": "1.5.0",
      "_model_name": "ProgressStyleModel",
      "_view_count": null,
      "_view_module": "@jupyter-widgets/base",
      "_view_module_version": "1.2.0",
      "_view_name": "StyleView",
      "bar_color": null,
      "description_width": "initial"
     }
    }
   }
  }
 },
 "nbformat": 4,
 "nbformat_minor": 1
}
